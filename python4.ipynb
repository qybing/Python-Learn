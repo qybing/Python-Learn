{
 "cells": [
  {
   "cell_type": "markdown",
   "metadata": {},
   "source": [
    "# 一、Python 自定义函数的基本步骤 \n",
    "\n",
    "函数是组织好的，可重复使用的，用来实现单一，或相关联功能的代码段。\n",
    "\n",
    "自定义函数，基本有以下规则步骤：\n",
    "\n",
    "* 函数代码块以 def 关键词开头，后接函数标识符名称和圆括号()\n",
    "* 任何传入参数和自变量必须放在圆括号中间。圆括号之间可以用于定义参数\n",
    "* 函数的第一行语句可以选择性地使用文档字符串（用于存放函数说明）\n",
    "* 函数内容以冒号起始，并且缩进\n",
    "* return [表达式] 结束函数，选择性地返回一个值给调用方。不带表达式的 return 相当于返回 None。\n",
    "语法示例：\n",
    "\n",
    "``` python\n",
    "def functionname( parameters ):\n",
    "   \"函数_文档字符串\"\n",
    "   function_suite\n",
    "   return [expression]\n",
    "```\n",
    "实例：\n",
    "\n",
    "1. def 定义一个函数，给定一个函数名 sum \n",
    "2. 声明两个参数 num1 和 num2\n",
    "3. 函数的第一行语句进行函数说明：两数之和\n",
    "4. 最终 return 语句结束函数，并返回两数之和"
   ]
  },
  {
   "cell_type": "code",
   "execution_count": 9,
   "metadata": {},
   "outputs": [
    {
     "name": "stdout",
     "output_type": "stream",
     "text": [
      "num1=5\n",
      "num2=6\n",
      "5+6=11\n"
     ]
    }
   ],
   "source": [
    "def sum(num1, num2):\n",
    "    print('num1={}'.format(num1))\n",
    "    print('num2={}'.format(num2))\n",
    "    return num1 + num2\n",
    "\n",
    "\n",
    "print('{}+{}={}'.format(5, 6, sum(5, 6)))"
   ]
  },
  {
   "cell_type": "markdown",
   "metadata": {},
   "source": [
    "函数参数的传递：\n",
    "1. 参数按照位置传递的，就像刚才那种方式\n",
    "2. 参数按赋值传递，请看下面"
   ]
  },
  {
   "cell_type": "code",
   "execution_count": 10,
   "metadata": {},
   "outputs": [
    {
     "name": "stdout",
     "output_type": "stream",
     "text": [
      "num1=5\n",
      "num2=6\n",
      "5+6=11\n"
     ]
    }
   ],
   "source": [
    "def sum(num1, num2):\n",
    "    print('num1={}'.format(num1))\n",
    "    print('num2={}'.format(num2))\n",
    "    return num1 + num2\n",
    "\n",
    "\n",
    "print('{}+{}={}'.format(5, 6, sum(num2=6, num1=5)))"
   ]
  },
  {
   "cell_type": "markdown",
   "metadata": {},
   "source": [
    "## 1、匿名函数\n",
    "有没有想过定义一个很短的回调函数，但又不想用 `def` 的形式去写一个那么长的函数，那么有没有快捷方式呢？答案是有的。\n",
    "\n",
    "python 使用 lambda 来创建匿名函数，也就是不再使用 def 语句这样标准的形式定义一个函数。\n",
    "\n",
    "匿名函数主要有以下特点：\n",
    "\n",
    "* lambda 只是一个表达式，函数体比 def 简单很多。\n",
    "* lambda 的主体是一个表达式，而不是一个代码块。仅仅能在 lambda 表达式中封装有限的逻辑进去。\n",
    "* lambda 函数拥有自己的命名空间，且不能访问自有参数列表之外或全局命名空间里的参数。\n",
    "\n",
    "**基本语法**\n",
    "\n",
    "```python\n",
    "lambda [arg1 [,arg2,.....argn]]:expression\n",
    "```"
   ]
  },
  {
   "cell_type": "code",
   "execution_count": 11,
   "metadata": {},
   "outputs": [
    {
     "data": {
      "text/plain": [
       "3"
      ]
     },
     "execution_count": 11,
     "metadata": {},
     "output_type": "execute_result"
    }
   ],
   "source": [
    "sum = lambda num1 , num2 : num1 + num2;\n",
    "sum(1,2)"
   ]
  },
  {
   "cell_type": "code",
   "execution_count": null,
   "metadata": {},
   "outputs": [],
   "source": []
  }
 ],
 "metadata": {
  "kernelspec": {
   "display_name": "Python 3",
   "language": "python",
   "name": "python3"
  },
  "language_info": {
   "codemirror_mode": {
    "name": "ipython",
    "version": 3
   },
   "file_extension": ".py",
   "mimetype": "text/x-python",
   "name": "python",
   "nbconvert_exporter": "python",
   "pygments_lexer": "ipython3",
   "version": "3.6.5"
  }
 },
 "nbformat": 4,
 "nbformat_minor": 2
}
