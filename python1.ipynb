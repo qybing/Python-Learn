{
 "cells": [
  {
   "cell_type": "markdown",
   "metadata": {},
   "source": [
    "# Python"
   ]
  },
  {
   "cell_type": "markdown",
   "metadata": {},
   "source": [
    "## 一、Python简介\n",
    "Python 是著名的“龟叔” Guido van Rossum 在 1989 年圣诞节期间，为了打发无聊的圣诞节而编写的一个编程语言。牛人就是牛人，为了打发无聊时间竟然写了一个这么牛皮的编程语言。\n",
    "\n",
    "现在，全世界差不多有 600 多种编程语言，但流行的编程语言也就那么 20 来种。不知道你有没有听说过 [TIOBE 排行榜](https://www.tiobe.com/tiobe-index/)。\n",
    "\n",
    "总的来说，这几种编程语言各有千秋，但不难看出，最近几年 Python 的发展非常的快，特别最近流行的机器学习，数据分析，更让 python 快速的发展起来。\n",
    "\n",
    "Python 是高级编程语言，它有一个特点就是能快速的开发。Python 为我们提供了非常完善的基础代码库，覆盖了网络、文件、GUI、数据库、文本等大量内容，被形象地称作“内置电池（batteries included）”。用 Python 开发，许多功能不必从零编写，直接使用现成的即可。而且 Python 还能开发网站，多大型网站就是用 Python 开发的，例如 YouTube、Instagram，还有国内的豆瓣。很多大公司，包括 Google、Yahoo 等，甚至 NASA（美国航空航天局）都大量地使用 Python。\n",
    "\n",
    "当然，任何编程语言有有点，也有缺点，Python 也不例外。那么 Python 有哪些缺点呢？\n",
    "\n",
    "第一个缺点就是运行速度慢，和C程序相比非常慢，因为Python是解释型语言，你的代码在执行时会一行一行地翻译成CPU能理解的机器码，这个翻译过程非常耗时，所以很慢。而C程序是运行前直接编译成CPU能执行的机器码，所以非常快。\n",
    "\n",
    "第二个缺点就是代码不能加密。如果要发布你的 Python 程序，实际上就是发布源代码。像 JAVA , C 这些编译型的语言，都没有这个问题，而解释型的语言，则必须把源码发布出去。"
   ]
  },
  {
   "cell_type": "markdown",
   "metadata": {},
   "source": [
    "## 二、Python可以做什么\n",
    "* 网站后端程序员： 知乎、豆瓣、Youtube、Gmail（目前Python）\n",
    "* 自动化运维： 批量处理大量的运维任务\n",
    "* 数据挖掘工程师\n",
    "* 数据分析师\n",
    "* 自动化测试\n",
    "* 机器学习\n",
    "2017和2018年Python\n",
    "![avatar](python.png)"
   ]
  },
  {
   "cell_type": "markdown",
   "metadata": {},
   "source": [
    "## 三、Python环境的安装    \n",
    "因为 Python 是跨平台的，它可以运行在 Windows、Mac 和各种 Linux/Unix 系统上。目前，Python 有两个版本，一个是 2.x 版，一个是 3.x版，这两个版本是不兼容的。这里安装的是 3.6.5 版本的。(Python有两个版本，建议去学习Python3,据说Python2将在2020年停止维护)\n",
    "\n",
    "这里安装的是Anaconda,它可以看做Python的一个集成安装，安装它后就默认安装了python、IPython、集成开发环境Spyder和众多的包和模块。非常方便。该软件的安装也是非常简单的，傻瓜式安装一直next下去。\n",
    "\n",
    "安装成功后，打开命令提示符窗口，敲入python后，出现如图所示则表示安装成功\n",
    "![avatar](cmd.png)"
   ]
  },
  {
   "cell_type": "markdown",
   "metadata": {},
   "source": [
    "当我们编写Python代码时，我们得到的是一个包含Python代码的以.py为扩展名的文本文件。要运行代码，就需要Python解释器去执行.py文件。\n",
    "\n",
    "由于整个Python语言从规范到解释器都是开源的，所以理论上，只要水平够高，任何人都可以编写Python解释器来执行Python代码（当然难度很大）。事实上，确实存在多种Python解释器。\n",
    "\n",
    "1. CPython\n",
    "当我们从Python官方网站下载并安装好Python 3.x后，我们就直接获得了一个官方版本的解释器：CPython。这个解释器是用C语言开发的，所以叫CPython。在命令行下运行python就是启动CPython解释器。\n",
    "\n",
    "CPython是使用最广的Python解释器。教程的所有代码也都在CPython下执行。\n",
    "\n",
    "2. IPython\n",
    "IPython是基于CPython之上的一个交互式解释器，也就是说，IPython只是在交互方式上有所增强，但是执行Python代码的功能和CPython是完全一样的。好比很多国产浏览器虽然外观不同，但内核其实都是调用了IE。\n",
    "\n",
    "CPython用>>>作为提示符，而IPython用In [序号]:作为提示符。\n",
    "\n",
    "3. PyPy\n",
    "PyPy是另一个Python解释器，它的目标是执行速度。PyPy采用JIT技术，对Python代码进行动态编译（注意不是解释），所以可以显著提高Python代码的执行速度。\n",
    "\n",
    "绝大部分Python代码都可以在PyPy下运行，但是PyPy和CPython有一些是不同的，这就导致相同的Python代码在两种解释器下执行可能会有不同的结果。如果你的代码要放到PyPy下执行，就需要了解PyPy和CPython的不同点。\n",
    "\n",
    "4. Jython\n",
    "Jython是运行在Java平台上的Python解释器，可以直接把Python代码编译成Java字节码执行。\n",
    "\n",
    "IronPython\n",
    "IronPython和Jython类似，只不过IronPython是运行在微软.Net平台上的Python解释器，可以直接把Python代码编译成.Net的字节码。"
   ]
  },
  {
   "cell_type": "markdown",
   "metadata": {},
   "source": [
    "## 四、Python的第一个程序"
   ]
  },
  {
   "cell_type": "markdown",
   "metadata": {},
   "source": [
    "Python相对于其他编程语言实现一个功能其代码简短，理解容易，如果换成Java则还需要写很多代码去实现。"
   ]
  },
  {
   "cell_type": "code",
   "execution_count": 4,
   "metadata": {},
   "outputs": [
    {
     "name": "stdout",
     "output_type": "stream",
     "text": [
      "Hello, World\n"
     ]
    }
   ],
   "source": [
    "print('Hello, World')"
   ]
  },
  {
   "cell_type": "markdown",
   "metadata": {},
   "source": [
    "### 1、Python命名规范\n",
    "####  1.1、模块\n",
    "* 模块尽量使用小写命名，首字母保持小写，尽量不要用下划线(除非多个单词，且数量不多的情况)\n",
    "\n",
    "``` Python\n",
    "# 正确的模块名\n",
    "import decoder\n",
    "import html_parser\n",
    "\n",
    "# 不推荐的模块名\n",
    "import Decoder\n",
    "```\n",
    "\n",
    "#### 1.2、类名\n",
    "* 类名使用驼峰(CamelCase)命名风格，首字母大写，私有类可用一个下划线开头\n",
    "\n",
    "``` Python\n",
    "class Farm():\n",
    "    pass\n",
    "\n",
    "class AnimalFarm(Farm):\n",
    "    pass\n",
    "\n",
    "class _PrivateFarm(Farm):\n",
    "    pass\n",
    "```\n",
    "\n",
    "* 将相关的类和顶级函数放在同一个模块里. 不像Java, 没必要限制一个类一个模块.\n",
    "\n",
    "#### 1.3、函数\n",
    "\n",
    "* 函数名一律小写，如有多个单词，用下划线隔开\n",
    "\n",
    "``` python\n",
    "def run():\n",
    "    pass\n",
    "\n",
    "def run_with_env():\n",
    "    pass\n",
    "```\n",
    "\n",
    "* 私有函数在函数前加一个下划线_\n",
    "\n",
    "``` python\n",
    "class Person():\n",
    "\n",
    "    def _private_func():\n",
    "        pass\n",
    "```\n",
    "\n",
    "#### 1.4、变量名\n",
    "\n",
    "* 变量名尽量小写, 如有多个单词，用下划线隔开\n",
    "\n",
    "``` python\n",
    "if __name__ == '__main__':\n",
    "    count = 0\n",
    "    school_name = ''\n",
    "```\n",
    "\n",
    "* 常量采用全大写，如有多个单词，使用下划线隔开\n",
    "\n",
    "```python\n",
    "MAX_CLIENT = 100\n",
    "MAX_CONNECTION = 1000\n",
    "CONNECTION_TIMEOUT = 600\n",
    "```\n",
    "\n",
    "#### 1.5、常量 ##\n",
    "\n",
    "* 常量使用以下划线分隔的大写命名\n",
    "\n",
    "``` python\n",
    "MAX_OVERFLOW = 100\n",
    "\n",
    "Class FooBar:\n",
    "\n",
    "    def foo_bar(self, print_):\n",
    "        print(print_)\n",
    "\n",
    "```\n"
   ]
  }
 ],
 "metadata": {
  "kernelspec": {
   "display_name": "Python 3",
   "language": "python",
   "name": "python3"
  },
  "language_info": {
   "codemirror_mode": {
    "name": "ipython",
    "version": 3
   },
   "file_extension": ".py",
   "mimetype": "text/x-python",
   "name": "python",
   "nbconvert_exporter": "python",
   "pygments_lexer": "ipython3",
   "version": "3.6.5"
  }
 },
 "nbformat": 4,
 "nbformat_minor": 2
}
